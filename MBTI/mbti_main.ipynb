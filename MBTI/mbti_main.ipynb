{
 "cells": [
  {
   "cell_type": "code",
   "execution_count": 30,
   "metadata": {},
   "outputs": [],
   "source": [
    "import pandas as pd\n",
    "import warnings"
   ]
  },
  {
   "cell_type": "code",
   "execution_count": 31,
   "metadata": {},
   "outputs": [
    {
     "data": {
      "text/plain": [
       "INFP    1832\n",
       "INFJ    1470\n",
       "INTP    1304\n",
       "INTJ    1091\n",
       "ENTP     685\n",
       "ENFP     675\n",
       "ISTP     337\n",
       "ISFP     271\n",
       "ENTJ     231\n",
       "ISTJ     205\n",
       "ENFJ     190\n",
       "ISFJ     166\n",
       "ESTP      89\n",
       "ESFP      48\n",
       "ESFJ      42\n",
       "ESTJ      39\n",
       "Name: type, dtype: int64"
      ]
     },
     "execution_count": 31,
     "metadata": {},
     "output_type": "execute_result"
    }
   ],
   "source": [
    "warnings.filterwarnings('ignore')\n",
    "\n",
    "# 種類別データ数の表示\n",
    "data = pd.read_csv('./datas/mbti_1.csv')\n",
    "data.head()\n",
    "data['type'].value_counts()\n"
   ]
  },
  {
   "cell_type": "code",
   "execution_count": 32,
   "metadata": {},
   "outputs": [
    {
     "name": "stdout",
     "output_type": "stream",
     "text": [
      "<class 'pandas.core.frame.DataFrame'>\n",
      "RangeIndex: 8675 entries, 0 to 8674\n",
      "Data columns (total 2 columns):\n",
      " #   Column  Non-Null Count  Dtype \n",
      "---  ------  --------------  ----- \n",
      " 0   type    8675 non-null   object\n",
      " 1   posts   8675 non-null   object\n",
      "dtypes: object(2)\n",
      "memory usage: 135.7+ KB\n"
     ]
    }
   ],
   "source": [
    "data.info()"
   ]
  },
  {
   "cell_type": "code",
   "execution_count": 33,
   "metadata": {},
   "outputs": [],
   "source": [
    "from sklearn.model_selection import train_test_split\n",
    "train_data, test_data=train_test_split(data, test_size=0.2, random_state=42, stratify=data.type)"
   ]
  },
  {
   "cell_type": "code",
   "execution_count": 34,
   "metadata": {},
   "outputs": [],
   "source": [
    "import re\n",
    "from nltk.stem import WordNetLemmatizer\n",
    "from tqdm import tqdm\n",
    "\n",
    "def clear_text(data):\n",
    "    data_length=[]\n",
    "    lemmatizer=WordNetLemmatizer()      # 単語を正規化\n",
    "    cleaned_text=[]\n",
    "    for sentence in tqdm(data.posts):\n",
    "        sentence=sentence.lower()\n",
    "        \n",
    "        # URLを削除\n",
    "        sentence=re.sub('https?://[^\\s<>\"]+|www\\.[^\\s<>\"]+' ,' ', sentence)\n",
    "    \n",
    "        # その他IDや電話番号などを削除\n",
    "        sentence=re.sub('[^0-9a-z]', ' ', sentence)\n",
    "    \n",
    "        data_length.append(len(sentence.split()))\n",
    "        cleaned_text.append(sentence)\n",
    "    return cleaned_text,data_length"
   ]
  },
  {
   "cell_type": "code",
   "execution_count": 35,
   "metadata": {},
   "outputs": [
    {
     "name": "stdout",
     "output_type": "stream",
     "text": [
      "7814    'Macona , it depends if the big family has ext...\n",
      "2233    https://www.youtube.com/watch?v=cfg4SC9Nics|||...\n",
      "7261    '@ Heylena.   Lol! Compliment accepted. Thank ...\n",
      "7794    '2pac right|||??? rocket coffin, like packed w...\n",
      "2950    'The title of this thread is misleading; there...\n",
      "                              ...                        \n",
      "2006    'One sentence is too restrictive to accurately...\n",
      "7137    'I wanted to be like some odd hybrid of Dr. Ja...\n",
      "6091    'I just took the cognitive process test here, ...\n",
      "2997    'Don't get so caught up in a fantacy about you...\n",
      "5458    'Doll i love all the movies you listed, and th...\n",
      "Name: posts, Length: 1735, dtype: object\n"
     ]
    }
   ],
   "source": [
    "# 変更前のテストデータ\n",
    "print(test_data.posts)"
   ]
  },
  {
   "cell_type": "code",
   "execution_count": 36,
   "metadata": {},
   "outputs": [
    {
     "name": "stderr",
     "output_type": "stream",
     "text": [
      "100%|██████████| 6940/6940 [00:02<00:00, 2487.64it/s]\n",
      "100%|██████████| 1735/1735 [00:00<00:00, 2594.15it/s]\n"
     ]
    }
   ],
   "source": [
    "# URLや関係ない文字をデータから削除\n",
    "train_data.posts, train_length=clear_text(train_data)\n",
    "test_data.posts,test_length=clear_text(test_data)"
   ]
  },
  {
   "cell_type": "code",
   "execution_count": 37,
   "metadata": {},
   "outputs": [
    {
     "name": "stdout",
     "output_type": "stream",
     "text": [
      "7814     macona   it depends if the big family has ext...\n",
      "2233        sveltihel     brilliant  but this was the ...\n",
      "7261       heylena    lol  compliment accepted  thank ...\n",
      "7794     2pac right       rocket coffin  like packed w...\n",
      "2950     the title of this thread is misleading  there...\n",
      "                              ...                        \n",
      "2006     one sentence is too restrictive to accurately...\n",
      "7137     i wanted to be like some odd hybrid of dr  ja...\n",
      "6091     i just took the cognitive process test here  ...\n",
      "2997     don t get so caught up in a fantacy about you...\n",
      "5458     doll i love all the movies you listed  and th...\n",
      "Name: posts, Length: 1735, dtype: object\n"
     ]
    }
   ],
   "source": [
    "# 変更後のテストデータ\n",
    "print(test_data.posts)"
   ]
  }
 ],
 "metadata": {
  "interpreter": {
   "hash": "532747a02cdeb333ebd825450acb9bec62f221c810e2027fc2a89fa9f68a180e"
  },
  "kernelspec": {
   "display_name": "Python 3.9.2 64-bit",
   "language": "python",
   "name": "python3"
  },
  "language_info": {
   "codemirror_mode": {
    "name": "ipython",
    "version": 3
   },
   "file_extension": ".py",
   "mimetype": "text/x-python",
   "name": "python",
   "nbconvert_exporter": "python",
   "pygments_lexer": "ipython3",
   "version": "3.9.2"
  },
  "orig_nbformat": 4
 },
 "nbformat": 4,
 "nbformat_minor": 2
}
