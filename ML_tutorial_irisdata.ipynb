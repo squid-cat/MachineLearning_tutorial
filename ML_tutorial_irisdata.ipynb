{
 "cells": [
  {
   "cell_type": "code",
   "execution_count": 1,
   "id": "c5f4d692",
   "metadata": {},
   "outputs": [
    {
     "name": "stdout",
     "output_type": "stream",
     "text": [
      "     sepal_length  sepal_width  petal_length  petal_width    species\n",
      "0             5.1          3.5           1.4          0.2     setosa\n",
      "1             4.9          3.0           1.4          0.2     setosa\n",
      "2             4.7          3.2           1.3          0.2     setosa\n",
      "3             4.6          3.1           1.5          0.2     setosa\n",
      "4             5.0          3.6           1.4          0.2     setosa\n",
      "..            ...          ...           ...          ...        ...\n",
      "145           6.7          3.0           5.2          2.3  virginica\n",
      "146           6.3          2.5           5.0          1.9  virginica\n",
      "147           6.5          3.0           5.2          2.0  virginica\n",
      "148           6.2          3.4           5.4          2.3  virginica\n",
      "149           5.9          3.0           5.1          1.8  virginica\n",
      "\n",
      "[150 rows x 5 columns]\n"
     ]
    }
   ],
   "source": [
    "import numpy as np\n",
    "import pandas as pd\n",
    "import matplotlib\n",
    "import matplotlib.pyplot as plt\n",
    "\n",
    "# データセット\n",
    "import seaborn as sns\n",
    "sns.set(style=\"ticks\")\n",
    "df = sns.load_dataset(\"iris\")\n",
    "print(df)"
   ]
  },
  {
   "cell_type": "code",
   "execution_count": 2,
   "id": "4952929e",
   "metadata": {},
   "outputs": [
    {
     "name": "stdout",
     "output_type": "stream",
     "text": [
      "<class 'sklearn.utils.Bunch'>\n",
      "dict_keys(['data', 'target', 'frame', 'target_names', 'DESCR', 'feature_names', 'filename'])\n"
     ]
    }
   ],
   "source": [
    "from sklearn import datasets, model_selection, svm, metrics\n",
    "iris = datasets.load_iris()\n",
    "\n",
    "print(type(iris))\n",
    "print(iris.keys())"
   ]
  },
  {
   "cell_type": "code",
   "execution_count": 3,
   "id": "3f412c6c",
   "metadata": {},
   "outputs": [
    {
     "name": "stdout",
     "output_type": "stream",
     "text": [
      "   sepal length (cm)  sepal width (cm)  petal length (cm)  petal width (cm)\n",
      "0                5.1               3.5                1.4               0.2\n",
      "1                4.9               3.0                1.4               0.2\n",
      "2                4.7               3.2                1.3               0.2\n",
      "3                4.6               3.1                1.5               0.2\n",
      "4                5.0               3.6                1.4               0.2\n"
     ]
    }
   ],
   "source": [
    "iris_data = pd.DataFrame(data=iris.data, columns=iris.feature_names)\n",
    "print(iris_data.head())"
   ]
  },
  {
   "cell_type": "code",
   "execution_count": 4,
   "id": "ace6757b",
   "metadata": {},
   "outputs": [
    {
     "name": "stdout",
     "output_type": "stream",
     "text": [
      "0    0\n",
      "1    0\n",
      "2    0\n",
      "3    0\n",
      "4    0\n",
      "dtype: int32\n"
     ]
    }
   ],
   "source": [
    "iris_label = pd.Series(data=iris.target)\n",
    "print(iris_label.head())"
   ]
  },
  {
   "cell_type": "code",
   "execution_count": 5,
   "id": "16555f5d",
   "metadata": {},
   "outputs": [
    {
     "name": "stdout",
     "output_type": "stream",
     "text": [
      "150\n"
     ]
    }
   ],
   "source": [
    "print(len(iris_data))"
   ]
  },
  {
   "cell_type": "code",
   "execution_count": 6,
   "id": "911a4948",
   "metadata": {
    "scrolled": true
   },
   "outputs": [
    {
     "name": "stdout",
     "output_type": "stream",
     "text": [
      "     sepal length (cm)  sepal width (cm)  petal length (cm)  petal width (cm)\n",
      "123                6.3               2.7                4.9               1.8\n",
      "50                 7.0               3.2                4.7               1.4\n",
      "136                6.3               3.4                5.6               2.4\n",
      "80                 5.5               2.4                3.8               1.1\n",
      "22                 4.6               3.6                1.0               0.2\n"
     ]
    }
   ],
   "source": [
    "data_train, data_test, label_train, label_test = model_selection.train_test_split(iris_data, iris_label)\n",
    "print(data_train.head())"
   ]
  },
  {
   "cell_type": "code",
   "execution_count": 7,
   "id": "ad2b7516",
   "metadata": {},
   "outputs": [
    {
     "name": "stdout",
     "output_type": "stream",
     "text": [
      "123    2\n",
      "50     1\n",
      "136    2\n",
      "80     1\n",
      "22     0\n",
      "dtype: int32\n"
     ]
    }
   ],
   "source": [
    "print(label_train.head())"
   ]
  },
  {
   "cell_type": "code",
   "execution_count": 8,
   "id": "671d7865",
   "metadata": {},
   "outputs": [
    {
     "name": "stdout",
     "output_type": "stream",
     "text": [
      "112 38\n"
     ]
    }
   ],
   "source": [
    "print(len(data_train), len(data_test))"
   ]
  },
  {
   "cell_type": "code",
   "execution_count": 13,
   "id": "5e3ab479",
   "metadata": {},
   "outputs": [
    {
     "name": "stdout",
     "output_type": "stream",
     "text": [
      "<class 'numpy.ndarray'>\n",
      "[2 0 0 2 0 2 2 1 1 2 1 0 2 2 2 1 2 2 2 1 1 2 2 1 0 1 1 1 0 0 1 0 1 2 0 0 2\n",
      " 2]\n",
      "[2 0 0 2 0 2 2 1 1 2 1 0 2 2 2 1 2 2 2 1 1 1 2 1 0 1 1 1 0 0 1 0 1 2 0 0 2\n",
      " 2]\n"
     ]
    }
   ],
   "source": [
    "clf = svm.SVC()\n",
    "clf.fit(data_train, label_train)\n",
    "pre = clf.predict(data_test)\n",
    "\n",
    "print(type(pre))\n",
    "print(np.array(label_test))\n",
    "print(pre)"
   ]
  },
  {
   "cell_type": "code",
   "execution_count": 10,
   "id": "3e7904ea",
   "metadata": {},
   "outputs": [
    {
     "name": "stdout",
     "output_type": "stream",
     "text": [
      "0.9736842105263158\n"
     ]
    }
   ],
   "source": [
    "ac_score = metrics.accuracy_score(label_test, pre)\n",
    "print(ac_score)"
   ]
  },
  {
   "cell_type": "code",
   "execution_count": 11,
   "id": "3fcae804",
   "metadata": {},
   "outputs": [
    {
     "name": "stdout",
     "output_type": "stream",
     "text": [
      "[[10  0  0]\n",
      " [ 0 12  0]\n",
      " [ 0  1 15]]\n"
     ]
    }
   ],
   "source": [
    "# 混合行列を生成\n",
    "from sklearn.metrics import confusion_matrix\n",
    "print(confusion_matrix(np.array(label_test), pre, labels=[0, 1, 2]))"
   ]
  },
  {
   "cell_type": "code",
   "execution_count": 18,
   "id": "87c9f47c",
   "metadata": {},
   "outputs": [
    {
     "name": "stdout",
     "output_type": "stream",
     "text": [
      "0.9736842105263158\n",
      "10\n"
     ]
    }
   ],
   "source": [
    "# 正解率 - accuracy\n",
    "from sklearn.metrics import accuracy_score\n",
    "print(accuracy_score(np.array(label_test), pre))\n",
    "print(np.sum(pre == 0))"
   ]
  },
  {
   "cell_type": "code",
   "execution_count": 19,
   "id": "8369169f",
   "metadata": {},
   "outputs": [
    {
     "name": "stdout",
     "output_type": "stream",
     "text": [
      "[1.     1.     0.9375]\n"
     ]
    }
   ],
   "source": [
    "# 再現率 - recall\n",
    "from sklearn.metrics import recall_score\n",
    "rec_score = recall_score(np.array(label_test), pre, average=None)\n",
    "print(rec_score)"
   ]
  },
  {
   "cell_type": "code",
   "execution_count": 20,
   "id": "8ac5a111",
   "metadata": {},
   "outputs": [
    {
     "name": "stdout",
     "output_type": "stream",
     "text": [
      "[1.         0.92307692 1.        ]\n"
     ]
    }
   ],
   "source": [
    "# 適合率 - presition\n",
    "from sklearn.metrics import precision_score\n",
    "pre_score = precision_score(np.array(label_test), pre, average=None)\n",
    "print(pre_score)"
   ]
  },
  {
   "cell_type": "code",
   "execution_count": null,
   "id": "39e8a4f6",
   "metadata": {},
   "outputs": [],
   "source": []
  }
 ],
 "metadata": {
  "kernelspec": {
   "display_name": "Python 3",
   "language": "python",
   "name": "python3"
  },
  "language_info": {
   "codemirror_mode": {
    "name": "ipython",
    "version": 3
   },
   "file_extension": ".py",
   "mimetype": "text/x-python",
   "name": "python",
   "nbconvert_exporter": "python",
   "pygments_lexer": "ipython3",
   "version": "3.8.8"
  }
 },
 "nbformat": 4,
 "nbformat_minor": 5
}
