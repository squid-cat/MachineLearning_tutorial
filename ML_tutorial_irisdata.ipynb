{
 "cells": [
  {
   "cell_type": "code",
   "execution_count": 42,
   "id": "c5f4d692",
   "metadata": {},
   "outputs": [
    {
     "name": "stdout",
     "output_type": "stream",
     "text": [
      "     sepal_length  sepal_width  petal_length  petal_width    species\n",
      "0             5.1          3.5           1.4          0.2     setosa\n",
      "1             4.9          3.0           1.4          0.2     setosa\n",
      "2             4.7          3.2           1.3          0.2     setosa\n",
      "3             4.6          3.1           1.5          0.2     setosa\n",
      "4             5.0          3.6           1.4          0.2     setosa\n",
      "..            ...          ...           ...          ...        ...\n",
      "145           6.7          3.0           5.2          2.3  virginica\n",
      "146           6.3          2.5           5.0          1.9  virginica\n",
      "147           6.5          3.0           5.2          2.0  virginica\n",
      "148           6.2          3.4           5.4          2.3  virginica\n",
      "149           5.9          3.0           5.1          1.8  virginica\n",
      "\n",
      "[150 rows x 5 columns]\n"
     ]
    }
   ],
   "source": [
    "import numpy as np\n",
    "import pandas as pd\n",
    "import matplotlib\n",
    "import matplotlib.pyplot as plt\n",
    "\n",
    "# データセット\n",
    "import seaborn as sns\n",
    "sns.set(style=\"ticks\")\n",
    "df = sns.load_dataset(\"iris\")\n",
    "print(df)"
   ]
  },
  {
   "cell_type": "code",
   "execution_count": 43,
   "id": "4952929e",
   "metadata": {},
   "outputs": [
    {
     "name": "stdout",
     "output_type": "stream",
     "text": [
      "<class 'sklearn.utils.Bunch'>\n",
      "dict_keys(['data', 'target', 'frame', 'target_names', 'DESCR', 'feature_names', 'filename', 'data_module'])\n"
     ]
    }
   ],
   "source": [
    "from sklearn import datasets, model_selection, svm, metrics\n",
    "iris = datasets.load_iris()\n",
    "\n",
    "print(type(iris))\n",
    "print(iris.keys())"
   ]
  },
  {
   "cell_type": "code",
   "execution_count": 44,
   "id": "3f412c6c",
   "metadata": {},
   "outputs": [
    {
     "name": "stdout",
     "output_type": "stream",
     "text": [
      "   sepal length (cm)  sepal width (cm)  petal length (cm)  petal width (cm)\n",
      "0                5.1               3.5                1.4               0.2\n",
      "1                4.9               3.0                1.4               0.2\n",
      "2                4.7               3.2                1.3               0.2\n",
      "3                4.6               3.1                1.5               0.2\n",
      "4                5.0               3.6                1.4               0.2\n"
     ]
    }
   ],
   "source": [
    "iris_data = pd.DataFrame(data=iris.data, columns=iris.feature_names)\n",
    "print(iris_data.head())"
   ]
  },
  {
   "cell_type": "code",
   "execution_count": 45,
   "id": "ace6757b",
   "metadata": {},
   "outputs": [
    {
     "name": "stdout",
     "output_type": "stream",
     "text": [
      "0    0\n",
      "1    0\n",
      "2    0\n",
      "3    0\n",
      "4    0\n",
      "dtype: int32\n"
     ]
    }
   ],
   "source": [
    "iris_label = pd.Series(data=iris.target)\n",
    "print(iris_label.head())"
   ]
  },
  {
   "cell_type": "code",
   "execution_count": 46,
   "id": "16555f5d",
   "metadata": {},
   "outputs": [
    {
     "name": "stdout",
     "output_type": "stream",
     "text": [
      "150\n"
     ]
    }
   ],
   "source": [
    "print(len(iris_data))"
   ]
  },
  {
   "cell_type": "code",
   "execution_count": 47,
   "id": "911a4948",
   "metadata": {
    "scrolled": true
   },
   "outputs": [
    {
     "name": "stdout",
     "output_type": "stream",
     "text": [
      "    sepal length (cm)  sepal width (cm)  petal length (cm)  petal width (cm)\n",
      "65                6.7               3.1                4.4               1.4\n",
      "76                6.8               2.8                4.8               1.4\n",
      "24                4.8               3.4                1.9               0.2\n",
      "35                5.0               3.2                1.2               0.2\n",
      "13                4.3               3.0                1.1               0.1\n"
     ]
    }
   ],
   "source": [
    "data_train, data_test, label_train, label_test = model_selection.train_test_split(iris_data, iris_label)\n",
    "print(data_train.head())"
   ]
  },
  {
   "cell_type": "code",
   "execution_count": 48,
   "id": "ad2b7516",
   "metadata": {},
   "outputs": [
    {
     "name": "stdout",
     "output_type": "stream",
     "text": [
      "65    1\n",
      "76    1\n",
      "24    0\n",
      "35    0\n",
      "13    0\n",
      "dtype: int32\n"
     ]
    }
   ],
   "source": [
    "print(label_train.head())"
   ]
  },
  {
   "cell_type": "code",
   "execution_count": 49,
   "id": "671d7865",
   "metadata": {},
   "outputs": [
    {
     "name": "stdout",
     "output_type": "stream",
     "text": [
      "112 38\n"
     ]
    }
   ],
   "source": [
    "print(len(data_train), len(data_test))"
   ]
  },
  {
   "cell_type": "code",
   "execution_count": 50,
   "id": "5e3ab479",
   "metadata": {},
   "outputs": [
    {
     "name": "stdout",
     "output_type": "stream",
     "text": [
      "<class 'numpy.ndarray'>\n",
      "[2 2 0 2 2 0 0 2 2 2 0 1 1 0 2 1 1 1 0 2 2 0 0 2 1 1 1 1 2 1 2 1 1 2 2 1 1\n",
      " 0]\n",
      "[2 2 0 2 2 0 0 2 2 2 0 1 1 0 2 1 1 1 0 2 2 0 0 2 1 2 1 2 2 1 2 1 1 2 2 2 1\n",
      " 0]\n"
     ]
    }
   ],
   "source": [
    "clf = svm.SVC()\n",
    "clf.fit(data_train, label_train)\n",
    "pre = clf.predict(data_test)\n",
    "\n",
    "print(type(pre))\n",
    "print(np.array(label_test))\n",
    "print(pre)"
   ]
  },
  {
   "cell_type": "code",
   "execution_count": 51,
   "id": "3e7904ea",
   "metadata": {},
   "outputs": [
    {
     "name": "stdout",
     "output_type": "stream",
     "text": [
      "0.9210526315789473\n"
     ]
    }
   ],
   "source": [
    "ac_score = metrics.accuracy_score(label_test, pre)\n",
    "print(ac_score)"
   ]
  },
  {
   "cell_type": "code",
   "execution_count": 52,
   "id": "3fcae804",
   "metadata": {},
   "outputs": [
    {
     "name": "stdout",
     "output_type": "stream",
     "text": [
      "[[ 9  0  0]\n",
      " [ 0 11  3]\n",
      " [ 0  0 15]]\n"
     ]
    }
   ],
   "source": [
    "# 混合行列を生成\n",
    "from sklearn.metrics import confusion_matrix\n",
    "print(confusion_matrix(np.array(label_test), pre, labels=[0, 1, 2]))"
   ]
  },
  {
   "cell_type": "code",
   "execution_count": 53,
   "id": "87c9f47c",
   "metadata": {},
   "outputs": [
    {
     "name": "stdout",
     "output_type": "stream",
     "text": [
      "0.9210526315789473\n",
      "9\n"
     ]
    }
   ],
   "source": [
    "# 正解率 - accuracy\n",
    "from sklearn.metrics import accuracy_score\n",
    "print(accuracy_score(np.array(label_test), pre))\n",
    "print(np.sum(pre == 0))"
   ]
  },
  {
   "cell_type": "code",
   "execution_count": 54,
   "id": "8369169f",
   "metadata": {},
   "outputs": [
    {
     "name": "stdout",
     "output_type": "stream",
     "text": [
      "[1.         0.78571429 1.        ]\n"
     ]
    }
   ],
   "source": [
    "# 再現率 - recall\n",
    "# true positive rate\n",
    "from sklearn.metrics import recall_score\n",
    "rec_score = recall_score(np.array(label_test), pre, average=None)\n",
    "print(rec_score)"
   ]
  },
  {
   "cell_type": "code",
   "execution_count": 55,
   "id": "8ac5a111",
   "metadata": {},
   "outputs": [
    {
     "name": "stdout",
     "output_type": "stream",
     "text": [
      "[1.         1.         0.83333333]\n"
     ]
    }
   ],
   "source": [
    "# 適合率 - presition\n",
    "# positive predictive value\n",
    "from sklearn.metrics import precision_score\n",
    "pre_score = precision_score(np.array(label_test), pre, average=None)\n",
    "print(pre_score)"
   ]
  },
  {
   "cell_type": "code",
   "execution_count": 56,
   "id": "39e8a4f6",
   "metadata": {},
   "outputs": [
    {
     "name": "stdout",
     "output_type": "stream",
     "text": [
      "[1.         0.88       0.90909091]\n"
     ]
    }
   ],
   "source": [
    "# F1値 - F1-measure\n",
    "#適合率と再現率の調和平均\n",
    "from sklearn.metrics import f1_score\n",
    "f_score = f1_score(np.array(label_test), pre, average=None)\n",
    "print(f_score)"
   ]
  },
  {
   "cell_type": "code",
   "execution_count": 57,
   "id": "14770a23",
   "metadata": {},
   "outputs": [
    {
     "name": "stdout",
     "output_type": "stream",
     "text": [
      "['setosa' 'versicolor' 'virginica']\n"
     ]
    }
   ],
   "source": [
    "# ヒートマップの可視化\n",
    "from sklearn.metrics import confusion_matrix\n",
    "import matplotlib.pyplot as plt\n",
    "from sklearn.utils.multiclass import unique_labels\n",
    "\n",
    "# 分別ラベル\n",
    "print(iris.target_names)\n",
    "\n",
    "def plot_confusion_matrix(test_y, pred_y, class_names, normalize=False):\n",
    "    cm = confusion_matrix(test_y, pred_y)\n",
    "    classes = class_names[unique_labels(test_y,pred_y)]\n",
    "    if normalize:\n",
    "        cm = cm.astype('float') / cm.sum(axis=1)[:, np.newaxis]\n",
    "    fig, ax = plt.subplots()\n",
    "    im = ax.imshow(cm, interpolation='nearest', cmap=plt.cm.Blues)\n",
    "    ax.figure.colorbar(im, ax=ax)\n",
    "    ax.set(xticks=np.arange(cm.shape[1]),\n",
    "           yticks=np.arange(cm.shape[0]),\n",
    "           xticklabels=classes,\n",
    "           yticklabels=classes,\n",
    "           ylabel='True label\\n',\n",
    "           xlabel='\\nPredicted label')\n",
    "    fmt = '.2f' if normalize else 'd'\n",
    "    for i in range(cm.shape[0]):\n",
    "        for j in range(cm.shape[1]):\n",
    "            ax.text(j, i, format(cm[i, j], fmt), ha=\"center\", va=\"center\")\n",
    "    fig.tight_layout()\n",
    "    return ax"
   ]
  },
  {
   "cell_type": "code",
   "execution_count": 58,
   "id": "3e0ed537",
   "metadata": {},
   "outputs": [
    {
     "data": {
      "text/plain": [
       "<AxesSubplot:xlabel='\\nPredicted label', ylabel='True label\\n'>"
      ]
     },
     "execution_count": 58,
     "metadata": {},
     "output_type": "execute_result"
    },
    {
     "data": {
      "image/png": "[encoded data removed]",
      "text/plain": [
       "<Figure size 432x288 with 2 Axes>"
      ]
     },
     "metadata": {},
     "output_type": "display_data"
    }
   ],
   "source": [
    "plot_confusion_matrix(np.array(label_test), pre, iris.target_names)"
   ]
  },
  {
   "cell_type": "code",
   "execution_count": null,
   "id": "588ea98c",
   "metadata": {},
   "outputs": [],
   "source": []
  }
 ],
 "metadata": {
  "kernelspec": {
   "display_name": "Python 3",
   "language": "python",
   "name": "python3"
  },
  "language_info": {
   "codemirror_mode": {
    "name": "ipython",
    "version": 3
   },
   "file_extension": ".py",
   "mimetype": "text/x-python",
   "name": "python",
   "nbconvert_exporter": "python",
   "pygments_lexer": "ipython3",
   "version": "3.9.2"
  }
 },
 "nbformat": 4,
 "nbformat_minor": 5
}
