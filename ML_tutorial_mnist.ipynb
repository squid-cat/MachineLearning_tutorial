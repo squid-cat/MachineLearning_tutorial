{
 "cells": [
  {
   "cell_type": "code",
   "execution_count": 62,
   "metadata": {},
   "outputs": [],
   "source": [
    "import numpy as np\n",
    "from sklearn.model_selection import train_test_split\n",
    "import tensorflow as tf\n",
    "from tensorflow.keras.datasets import mnist\n",
    "from tensorflow import keras\n",
    "from tensorflow.keras.layers import Dense, Activation\n",
    "from tensorflow.keras.models import Sequential\n",
    "from tensorflow.keras.utils import to_categorical"
   ]
  },
  {
   "cell_type": "code",
   "execution_count": 63,
   "metadata": {},
   "outputs": [],
   "source": [
    "# Kerasに付属の手書き数字画像データをダウンロード\n",
    "np.random.seed(0)\n",
    "(X_train_base, labels_train_base), (X_test, labels_test) = mnist.load_data()"
   ]
  },
  {
   "cell_type": "code",
   "execution_count": 64,
   "metadata": {},
   "outputs": [],
   "source": [
    "# Training set を学習データ（X_train, labels_train）と検証データ（X_validation, labels_validation）に8:2で分割する\n",
    "X_train,X_validation,labels_train,labels_validation = train_test_split(X_train_base,labels_train_base,test_size = 0.2)\n",
    "\n",
    "# 各画像は行列なので1次元に変換→X_train,X_validation,X_testを上書き\n",
    "X_train = X_train.reshape(-1,784)\n",
    "X_validation = X_validation.reshape(-1,784)\n",
    "X_test = X_test.reshape(-1,784)\n",
    "\n",
    "#正規化\n",
    "X_train = X_train.astype('float32')\n",
    "X_validation = X_validation.astype('float32')\n",
    "X_test = X_test.astype('float32')\n",
    "X_train /= 255\n",
    "X_validation /= 255\n",
    "X_test /= 255"
   ]
  },
  {
   "cell_type": "code",
   "execution_count": 65,
   "metadata": {},
   "outputs": [],
   "source": [
    "# labels_train, labels_validation, labels_test をダミー変数化して y_train, y_validation, y_test に格納する\n",
    "y_train = to_categorical(labels_train)\n",
    "y_validation = to_categorical(labels_validation)\n",
    "y_test = to_categorical(labels_test)"
   ]
  },
  {
   "cell_type": "code",
   "execution_count": 66,
   "metadata": {},
   "outputs": [],
   "source": [
    "# パラメータの設定\n",
    "n_features = 784\n",
    "n_hidden   = 100\n",
    "bias_init = 0.1\n",
    "\n",
    "# 学習率\n",
    "rate       = 0.01\n",
    "\n",
    "# Sequentialクラスを使ってモデルを準備する\n",
    "model = Sequential()\n",
    "\n",
    "# 隠れ層を追加\n",
    "model.add(Dense(n_hidden,activation='relu',input_shape=(n_features,)))\n",
    "model.add(Dense(n_hidden,activation='relu'))\n",
    "model.add(Dense(n_hidden,activation='relu'))\n",
    "\n",
    "# 出力層を追加\n",
    "model.add(Dense(10,activation='softmax'))"
   ]
  },
  {
   "cell_type": "code",
   "execution_count": 67,
   "metadata": {},
   "outputs": [
    {
     "name": "stdout",
     "output_type": "stream",
     "text": [
      "Epoch 1/3000\n",
      "480/480 [==============================] - 1s 1ms/step - loss: 0.2761 - mae: 0.0241 - accuracy: 0.9156 - val_loss: 0.1598 - val_mae: 0.0141 - val_accuracy: 0.9521\n",
      "Epoch 2/3000\n",
      "480/480 [==============================] - 1s 1ms/step - loss: 0.1555 - mae: 0.0130 - accuracy: 0.9550 - val_loss: 0.1406 - val_mae: 0.0121 - val_accuracy: 0.9597\n",
      "Epoch 3/3000\n",
      "480/480 [==============================] - 1s 1ms/step - loss: 0.1234 - mae: 0.0102 - accuracy: 0.9654 - val_loss: 0.1398 - val_mae: 0.0099 - val_accuracy: 0.9603\n",
      "Epoch 4/3000\n",
      "480/480 [==============================] - 1s 1ms/step - loss: 0.1117 - mae: 0.0092 - accuracy: 0.9676 - val_loss: 0.1371 - val_mae: 0.0110 - val_accuracy: 0.9620\n",
      "Epoch 5/3000\n",
      "480/480 [==============================] - 1s 1ms/step - loss: 0.1003 - mae: 0.0079 - accuracy: 0.9720 - val_loss: 0.1375 - val_mae: 0.0103 - val_accuracy: 0.9647\n",
      "Epoch 6/3000\n",
      "480/480 [==============================] - 1s 1ms/step - loss: 0.0967 - mae: 0.0075 - accuracy: 0.9731 - val_loss: 0.1539 - val_mae: 0.0087 - val_accuracy: 0.9686\n",
      "Epoch 7/3000\n",
      "480/480 [==============================] - 1s 1ms/step - loss: 0.0984 - mae: 0.0074 - accuracy: 0.9743 - val_loss: 0.1436 - val_mae: 0.0081 - val_accuracy: 0.9664\n",
      "Epoch 8/3000\n",
      "480/480 [==============================] - 1s 1ms/step - loss: 0.0786 - mae: 0.0062 - accuracy: 0.9784 - val_loss: 0.1870 - val_mae: 0.0108 - val_accuracy: 0.9573\n",
      "Epoch 9/3000\n",
      "480/480 [==============================] - 1s 1ms/step - loss: 0.0787 - mae: 0.0060 - accuracy: 0.9790 - val_loss: 0.1567 - val_mae: 0.0082 - val_accuracy: 0.9651\n",
      "Epoch 10/3000\n",
      "480/480 [==============================] - 1s 1ms/step - loss: 0.0787 - mae: 0.0058 - accuracy: 0.9790 - val_loss: 0.1430 - val_mae: 0.0078 - val_accuracy: 0.9688\n",
      "Epoch 11/3000\n",
      "480/480 [==============================] - 1s 1ms/step - loss: 0.0661 - mae: 0.0050 - accuracy: 0.9822 - val_loss: 0.1371 - val_mae: 0.0078 - val_accuracy: 0.9693\n",
      "Epoch 12/3000\n",
      "480/480 [==============================] - 1s 1ms/step - loss: 0.0752 - mae: 0.0053 - accuracy: 0.9812 - val_loss: 0.1433 - val_mae: 0.0077 - val_accuracy: 0.9696\n",
      "Epoch 13/3000\n",
      "480/480 [==============================] - 1s 1ms/step - loss: 0.0661 - mae: 0.0049 - accuracy: 0.9831 - val_loss: 0.1394 - val_mae: 0.0076 - val_accuracy: 0.9704\n",
      "Epoch 14/3000\n",
      "480/480 [==============================] - 1s 1ms/step - loss: 0.0599 - mae: 0.0044 - accuracy: 0.9844 - val_loss: 0.1569 - val_mae: 0.0081 - val_accuracy: 0.9677\n",
      "Epoch 00014: early stopping\n"
     ]
    }
   ],
   "source": [
    "# TensorFlowのモデルを構築\n",
    "model.compile(optimizer=tf.optimizers.Adam(rate),\n",
    "              loss='categorical_crossentropy', metrics=['mae', 'accuracy'])\n",
    "\n",
    "# Early stoppingを適用してフィッティング\n",
    "log = model.fit(X_train, y_train, epochs=3000, batch_size=100, verbose=True,\n",
    "                callbacks=[keras.callbacks.EarlyStopping(monitor='val_loss', \n",
    "                                                     min_delta=0, patience=10, \n",
    "                                                         verbose=1)],\n",
    "                validation_data=(X_validation, y_validation))"
   ]
  },
  {
   "cell_type": "code",
   "execution_count": 68,
   "metadata": {},
   "outputs": [
    {
     "name": "stdout",
     "output_type": "stream",
     "text": [
      "9649/10000 correct (96.490%)\n"
     ]
    }
   ],
   "source": [
    "# Test dataで予測を実行。\n",
    "pred_test = np.argmax(model.predict(X_test), axis=1)\n",
    "\n",
    "validation = (pred_test == labels_test)\n",
    "size       = validation.size\n",
    "size\n",
    "correct    = np.count_nonzero(validation)\n",
    "print(f\"{correct}/{size} correct ({correct*100/size:.3f}%)\")"
   ]
  }
 ],
 "metadata": {
  "interpreter": {
   "hash": "532747a02cdeb333ebd825450acb9bec62f221c810e2027fc2a89fa9f68a180e"
  },
  "kernelspec": {
   "display_name": "Python 3.9.2 64-bit",
   "language": "python",
   "name": "python3"
  },
  "language_info": {
   "codemirror_mode": {
    "name": "ipython",
    "version": 3
   },
   "file_extension": ".py",
   "mimetype": "text/x-python",
   "name": "python",
   "nbconvert_exporter": "python",
   "pygments_lexer": "ipython3",
   "version": "3.9.2"
  },
  "orig_nbformat": 4
 },
 "nbformat": 4,
 "nbformat_minor": 2
}
